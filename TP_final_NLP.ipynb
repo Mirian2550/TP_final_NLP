{
  "nbformat": 4,
  "nbformat_minor": 0,
  "metadata": {
    "colab": {
      "provenance": [],
      "include_colab_link": true
    },
    "kernelspec": {
      "name": "python3",
      "display_name": "Python 3"
    },
    "language_info": {
      "name": "python"
    }
  },
  "cells": [
    {
      "cell_type": "markdown",
      "metadata": {
        "id": "view-in-github",
        "colab_type": "text"
      },
      "source": [
        "<a href=\"https://colab.research.google.com/github/Mirian2550/TP_final_NLP/blob/main/TP_final_NLP.ipynb\" target=\"_parent\"><img src=\"https://colab.research.google.com/assets/colab-badge.svg\" alt=\"Open In Colab\"/></a>"
      ]
    },
    {
      "cell_type": "code",
      "execution_count": 15,
      "metadata": {
        "id": "v-gIXi3okTiF",
        "colab": {
          "base_uri": "https://localhost:8080/"
        },
        "outputId": "7420e601-f7fb-4628-ee73-d9f6397b3c67"
      },
      "outputs": [
        {
          "output_type": "stream",
          "name": "stdout",
          "text": [
            "Requirement already satisfied: langchain in /usr/local/lib/python3.10/dist-packages (0.1.7)\n",
            "Requirement already satisfied: chromadb in /usr/local/lib/python3.10/dist-packages (0.4.22)\n",
            "Requirement already satisfied: sentence-transformers in /usr/local/lib/python3.10/dist-packages (2.3.1)\n",
            "Requirement already satisfied: langchain-openai in /usr/local/lib/python3.10/dist-packages (0.0.6)\n",
            "Requirement already satisfied: pypdf in /usr/local/lib/python3.10/dist-packages (4.0.2)\n",
            "Requirement already satisfied: PyYAML>=5.3 in /usr/local/lib/python3.10/dist-packages (from langchain) (6.0.1)\n",
            "Requirement already satisfied: SQLAlchemy<3,>=1.4 in /usr/local/lib/python3.10/dist-packages (from langchain) (2.0.27)\n",
            "Requirement already satisfied: aiohttp<4.0.0,>=3.8.3 in /usr/local/lib/python3.10/dist-packages (from langchain) (3.9.3)\n",
            "Requirement already satisfied: async-timeout<5.0.0,>=4.0.0 in /usr/local/lib/python3.10/dist-packages (from langchain) (4.0.3)\n",
            "Requirement already satisfied: dataclasses-json<0.7,>=0.5.7 in /usr/local/lib/python3.10/dist-packages (from langchain) (0.6.4)\n",
            "Requirement already satisfied: jsonpatch<2.0,>=1.33 in /usr/local/lib/python3.10/dist-packages (from langchain) (1.33)\n",
            "Requirement already satisfied: langchain-community<0.1,>=0.0.20 in /usr/local/lib/python3.10/dist-packages (from langchain) (0.0.20)\n",
            "Requirement already satisfied: langchain-core<0.2,>=0.1.22 in /usr/local/lib/python3.10/dist-packages (from langchain) (0.1.23)\n",
            "Requirement already satisfied: langsmith<0.1,>=0.0.83 in /usr/local/lib/python3.10/dist-packages (from langchain) (0.0.87)\n",
            "Requirement already satisfied: numpy<2,>=1 in /usr/local/lib/python3.10/dist-packages (from langchain) (1.23.5)\n",
            "Requirement already satisfied: pydantic<3,>=1 in /usr/local/lib/python3.10/dist-packages (from langchain) (2.6.1)\n",
            "Requirement already satisfied: requests<3,>=2 in /usr/local/lib/python3.10/dist-packages (from langchain) (2.31.0)\n",
            "Requirement already satisfied: tenacity<9.0.0,>=8.1.0 in /usr/local/lib/python3.10/dist-packages (from langchain) (8.2.3)\n",
            "Requirement already satisfied: build>=1.0.3 in /usr/local/lib/python3.10/dist-packages (from chromadb) (1.0.3)\n",
            "Requirement already satisfied: chroma-hnswlib==0.7.3 in /usr/local/lib/python3.10/dist-packages (from chromadb) (0.7.3)\n",
            "Requirement already satisfied: fastapi>=0.95.2 in /usr/local/lib/python3.10/dist-packages (from chromadb) (0.109.2)\n",
            "Requirement already satisfied: uvicorn[standard]>=0.18.3 in /usr/local/lib/python3.10/dist-packages (from chromadb) (0.27.1)\n",
            "Requirement already satisfied: posthog>=2.4.0 in /usr/local/lib/python3.10/dist-packages (from chromadb) (3.4.1)\n",
            "Requirement already satisfied: typing-extensions>=4.5.0 in /usr/local/lib/python3.10/dist-packages (from chromadb) (4.9.0)\n",
            "Requirement already satisfied: pulsar-client>=3.1.0 in /usr/local/lib/python3.10/dist-packages (from chromadb) (3.4.0)\n",
            "Requirement already satisfied: onnxruntime>=1.14.1 in /usr/local/lib/python3.10/dist-packages (from chromadb) (1.17.0)\n",
            "Requirement already satisfied: opentelemetry-api>=1.2.0 in /usr/local/lib/python3.10/dist-packages (from chromadb) (1.22.0)\n",
            "Requirement already satisfied: opentelemetry-exporter-otlp-proto-grpc>=1.2.0 in /usr/local/lib/python3.10/dist-packages (from chromadb) (1.22.0)\n",
            "Requirement already satisfied: opentelemetry-instrumentation-fastapi>=0.41b0 in /usr/local/lib/python3.10/dist-packages (from chromadb) (0.43b0)\n",
            "Requirement already satisfied: opentelemetry-sdk>=1.2.0 in /usr/local/lib/python3.10/dist-packages (from chromadb) (1.22.0)\n",
            "Requirement already satisfied: tokenizers>=0.13.2 in /usr/local/lib/python3.10/dist-packages (from chromadb) (0.15.2)\n",
            "Requirement already satisfied: pypika>=0.48.9 in /usr/local/lib/python3.10/dist-packages (from chromadb) (0.48.9)\n",
            "Requirement already satisfied: tqdm>=4.65.0 in /usr/local/lib/python3.10/dist-packages (from chromadb) (4.66.2)\n",
            "Requirement already satisfied: overrides>=7.3.1 in /usr/local/lib/python3.10/dist-packages (from chromadb) (7.7.0)\n",
            "Requirement already satisfied: importlib-resources in /usr/local/lib/python3.10/dist-packages (from chromadb) (6.1.1)\n",
            "Requirement already satisfied: grpcio>=1.58.0 in /usr/local/lib/python3.10/dist-packages (from chromadb) (1.60.1)\n",
            "Requirement already satisfied: bcrypt>=4.0.1 in /usr/local/lib/python3.10/dist-packages (from chromadb) (4.1.2)\n",
            "Requirement already satisfied: typer>=0.9.0 in /usr/local/lib/python3.10/dist-packages (from chromadb) (0.9.0)\n",
            "Requirement already satisfied: kubernetes>=28.1.0 in /usr/local/lib/python3.10/dist-packages (from chromadb) (29.0.0)\n",
            "Requirement already satisfied: mmh3>=4.0.1 in /usr/local/lib/python3.10/dist-packages (from chromadb) (4.1.0)\n",
            "Requirement already satisfied: transformers<5.0.0,>=4.32.0 in /usr/local/lib/python3.10/dist-packages (from sentence-transformers) (4.35.2)\n",
            "Requirement already satisfied: torch>=1.11.0 in /usr/local/lib/python3.10/dist-packages (from sentence-transformers) (2.1.0+cu121)\n",
            "Requirement already satisfied: scikit-learn in /usr/local/lib/python3.10/dist-packages (from sentence-transformers) (1.2.2)\n",
            "Requirement already satisfied: scipy in /usr/local/lib/python3.10/dist-packages (from sentence-transformers) (1.11.4)\n",
            "Requirement already satisfied: nltk in /usr/local/lib/python3.10/dist-packages (from sentence-transformers) (3.8.1)\n",
            "Requirement already satisfied: sentencepiece in /usr/local/lib/python3.10/dist-packages (from sentence-transformers) (0.1.99)\n",
            "Requirement already satisfied: huggingface-hub>=0.15.1 in /usr/local/lib/python3.10/dist-packages (from sentence-transformers) (0.20.3)\n",
            "Requirement already satisfied: Pillow in /usr/local/lib/python3.10/dist-packages (from sentence-transformers) (9.4.0)\n",
            "Requirement already satisfied: openai<2.0.0,>=1.10.0 in /usr/local/lib/python3.10/dist-packages (from langchain-openai) (1.12.0)\n",
            "Requirement already satisfied: tiktoken<1,>=0.5.2 in /usr/local/lib/python3.10/dist-packages (from langchain-openai) (0.6.0)\n",
            "Requirement already satisfied: aiosignal>=1.1.2 in /usr/local/lib/python3.10/dist-packages (from aiohttp<4.0.0,>=3.8.3->langchain) (1.3.1)\n",
            "Requirement already satisfied: attrs>=17.3.0 in /usr/local/lib/python3.10/dist-packages (from aiohttp<4.0.0,>=3.8.3->langchain) (23.2.0)\n",
            "Requirement already satisfied: frozenlist>=1.1.1 in /usr/local/lib/python3.10/dist-packages (from aiohttp<4.0.0,>=3.8.3->langchain) (1.4.1)\n",
            "Requirement already satisfied: multidict<7.0,>=4.5 in /usr/local/lib/python3.10/dist-packages (from aiohttp<4.0.0,>=3.8.3->langchain) (6.0.5)\n",
            "Requirement already satisfied: yarl<2.0,>=1.0 in /usr/local/lib/python3.10/dist-packages (from aiohttp<4.0.0,>=3.8.3->langchain) (1.9.4)\n",
            "Requirement already satisfied: packaging>=19.0 in /usr/local/lib/python3.10/dist-packages (from build>=1.0.3->chromadb) (23.2)\n",
            "Requirement already satisfied: pyproject_hooks in /usr/local/lib/python3.10/dist-packages (from build>=1.0.3->chromadb) (1.0.0)\n",
            "Requirement already satisfied: tomli>=1.1.0 in /usr/local/lib/python3.10/dist-packages (from build>=1.0.3->chromadb) (2.0.1)\n",
            "Requirement already satisfied: marshmallow<4.0.0,>=3.18.0 in /usr/local/lib/python3.10/dist-packages (from dataclasses-json<0.7,>=0.5.7->langchain) (3.20.2)\n",
            "Requirement already satisfied: typing-inspect<1,>=0.4.0 in /usr/local/lib/python3.10/dist-packages (from dataclasses-json<0.7,>=0.5.7->langchain) (0.9.0)\n",
            "Requirement already satisfied: starlette<0.37.0,>=0.36.3 in /usr/local/lib/python3.10/dist-packages (from fastapi>=0.95.2->chromadb) (0.36.3)\n",
            "Requirement already satisfied: filelock in /usr/local/lib/python3.10/dist-packages (from huggingface-hub>=0.15.1->sentence-transformers) (3.13.1)\n",
            "Requirement already satisfied: fsspec>=2023.5.0 in /usr/local/lib/python3.10/dist-packages (from huggingface-hub>=0.15.1->sentence-transformers) (2023.6.0)\n",
            "Requirement already satisfied: jsonpointer>=1.9 in /usr/local/lib/python3.10/dist-packages (from jsonpatch<2.0,>=1.33->langchain) (2.4)\n",
            "Requirement already satisfied: certifi>=14.05.14 in /usr/local/lib/python3.10/dist-packages (from kubernetes>=28.1.0->chromadb) (2024.2.2)\n",
            "Requirement already satisfied: six>=1.9.0 in /usr/local/lib/python3.10/dist-packages (from kubernetes>=28.1.0->chromadb) (1.16.0)\n",
            "Requirement already satisfied: python-dateutil>=2.5.3 in /usr/local/lib/python3.10/dist-packages (from kubernetes>=28.1.0->chromadb) (2.8.2)\n",
            "Requirement already satisfied: google-auth>=1.0.1 in /usr/local/lib/python3.10/dist-packages (from kubernetes>=28.1.0->chromadb) (2.27.0)\n",
            "Requirement already satisfied: websocket-client!=0.40.0,!=0.41.*,!=0.42.*,>=0.32.0 in /usr/local/lib/python3.10/dist-packages (from kubernetes>=28.1.0->chromadb) (1.7.0)\n",
            "Requirement already satisfied: requests-oauthlib in /usr/local/lib/python3.10/dist-packages (from kubernetes>=28.1.0->chromadb) (1.3.1)\n",
            "Requirement already satisfied: oauthlib>=3.2.2 in /usr/local/lib/python3.10/dist-packages (from kubernetes>=28.1.0->chromadb) (3.2.2)\n",
            "Requirement already satisfied: urllib3>=1.24.2 in /usr/local/lib/python3.10/dist-packages (from kubernetes>=28.1.0->chromadb) (2.0.7)\n",
            "Requirement already satisfied: anyio<5,>=3 in /usr/local/lib/python3.10/dist-packages (from langchain-core<0.2,>=0.1.22->langchain) (3.7.1)\n",
            "Requirement already satisfied: coloredlogs in /usr/local/lib/python3.10/dist-packages (from onnxruntime>=1.14.1->chromadb) (15.0.1)\n",
            "Requirement already satisfied: flatbuffers in /usr/local/lib/python3.10/dist-packages (from onnxruntime>=1.14.1->chromadb) (23.5.26)\n",
            "Requirement already satisfied: protobuf in /usr/local/lib/python3.10/dist-packages (from onnxruntime>=1.14.1->chromadb) (3.20.3)\n",
            "Requirement already satisfied: sympy in /usr/local/lib/python3.10/dist-packages (from onnxruntime>=1.14.1->chromadb) (1.12)\n",
            "Requirement already satisfied: distro<2,>=1.7.0 in /usr/lib/python3/dist-packages (from openai<2.0.0,>=1.10.0->langchain-openai) (1.7.0)\n",
            "Requirement already satisfied: httpx<1,>=0.23.0 in /usr/local/lib/python3.10/dist-packages (from openai<2.0.0,>=1.10.0->langchain-openai) (0.26.0)\n",
            "Requirement already satisfied: sniffio in /usr/local/lib/python3.10/dist-packages (from openai<2.0.0,>=1.10.0->langchain-openai) (1.3.0)\n",
            "Requirement already satisfied: deprecated>=1.2.6 in /usr/local/lib/python3.10/dist-packages (from opentelemetry-api>=1.2.0->chromadb) (1.2.14)\n",
            "Requirement already satisfied: importlib-metadata<7.0,>=6.0 in /usr/local/lib/python3.10/dist-packages (from opentelemetry-api>=1.2.0->chromadb) (6.11.0)\n",
            "Requirement already satisfied: backoff<3.0.0,>=1.10.0 in /usr/local/lib/python3.10/dist-packages (from opentelemetry-exporter-otlp-proto-grpc>=1.2.0->chromadb) (2.2.1)\n",
            "Requirement already satisfied: googleapis-common-protos~=1.52 in /usr/local/lib/python3.10/dist-packages (from opentelemetry-exporter-otlp-proto-grpc>=1.2.0->chromadb) (1.62.0)\n",
            "Requirement already satisfied: opentelemetry-exporter-otlp-proto-common==1.22.0 in /usr/local/lib/python3.10/dist-packages (from opentelemetry-exporter-otlp-proto-grpc>=1.2.0->chromadb) (1.22.0)\n",
            "Requirement already satisfied: opentelemetry-proto==1.22.0 in /usr/local/lib/python3.10/dist-packages (from opentelemetry-exporter-otlp-proto-grpc>=1.2.0->chromadb) (1.22.0)\n",
            "Requirement already satisfied: opentelemetry-instrumentation-asgi==0.43b0 in /usr/local/lib/python3.10/dist-packages (from opentelemetry-instrumentation-fastapi>=0.41b0->chromadb) (0.43b0)\n",
            "Requirement already satisfied: opentelemetry-instrumentation==0.43b0 in /usr/local/lib/python3.10/dist-packages (from opentelemetry-instrumentation-fastapi>=0.41b0->chromadb) (0.43b0)\n",
            "Requirement already satisfied: opentelemetry-semantic-conventions==0.43b0 in /usr/local/lib/python3.10/dist-packages (from opentelemetry-instrumentation-fastapi>=0.41b0->chromadb) (0.43b0)\n",
            "Requirement already satisfied: opentelemetry-util-http==0.43b0 in /usr/local/lib/python3.10/dist-packages (from opentelemetry-instrumentation-fastapi>=0.41b0->chromadb) (0.43b0)\n",
            "Requirement already satisfied: setuptools>=16.0 in /usr/local/lib/python3.10/dist-packages (from opentelemetry-instrumentation==0.43b0->opentelemetry-instrumentation-fastapi>=0.41b0->chromadb) (67.7.2)\n",
            "Requirement already satisfied: wrapt<2.0.0,>=1.0.0 in /usr/local/lib/python3.10/dist-packages (from opentelemetry-instrumentation==0.43b0->opentelemetry-instrumentation-fastapi>=0.41b0->chromadb) (1.14.1)\n",
            "Requirement already satisfied: asgiref~=3.0 in /usr/local/lib/python3.10/dist-packages (from opentelemetry-instrumentation-asgi==0.43b0->opentelemetry-instrumentation-fastapi>=0.41b0->chromadb) (3.7.2)\n",
            "Requirement already satisfied: monotonic>=1.5 in /usr/local/lib/python3.10/dist-packages (from posthog>=2.4.0->chromadb) (1.6)\n",
            "Requirement already satisfied: annotated-types>=0.4.0 in /usr/local/lib/python3.10/dist-packages (from pydantic<3,>=1->langchain) (0.6.0)\n",
            "Requirement already satisfied: pydantic-core==2.16.2 in /usr/local/lib/python3.10/dist-packages (from pydantic<3,>=1->langchain) (2.16.2)\n",
            "Requirement already satisfied: charset-normalizer<4,>=2 in /usr/local/lib/python3.10/dist-packages (from requests<3,>=2->langchain) (3.3.2)\n",
            "Requirement already satisfied: idna<4,>=2.5 in /usr/local/lib/python3.10/dist-packages (from requests<3,>=2->langchain) (3.6)\n",
            "Requirement already satisfied: greenlet!=0.4.17 in /usr/local/lib/python3.10/dist-packages (from SQLAlchemy<3,>=1.4->langchain) (3.0.3)\n",
            "Requirement already satisfied: regex>=2022.1.18 in /usr/local/lib/python3.10/dist-packages (from tiktoken<1,>=0.5.2->langchain-openai) (2023.12.25)\n",
            "Requirement already satisfied: networkx in /usr/local/lib/python3.10/dist-packages (from torch>=1.11.0->sentence-transformers) (3.2.1)\n",
            "Requirement already satisfied: jinja2 in /usr/local/lib/python3.10/dist-packages (from torch>=1.11.0->sentence-transformers) (3.1.3)\n",
            "Requirement already satisfied: triton==2.1.0 in /usr/local/lib/python3.10/dist-packages (from torch>=1.11.0->sentence-transformers) (2.1.0)\n",
            "Requirement already satisfied: safetensors>=0.3.1 in /usr/local/lib/python3.10/dist-packages (from transformers<5.0.0,>=4.32.0->sentence-transformers) (0.4.2)\n",
            "Requirement already satisfied: click<9.0.0,>=7.1.1 in /usr/local/lib/python3.10/dist-packages (from typer>=0.9.0->chromadb) (8.1.7)\n",
            "Requirement already satisfied: h11>=0.8 in /usr/local/lib/python3.10/dist-packages (from uvicorn[standard]>=0.18.3->chromadb) (0.14.0)\n",
            "Requirement already satisfied: httptools>=0.5.0 in /usr/local/lib/python3.10/dist-packages (from uvicorn[standard]>=0.18.3->chromadb) (0.6.1)\n",
            "Requirement already satisfied: python-dotenv>=0.13 in /usr/local/lib/python3.10/dist-packages (from uvicorn[standard]>=0.18.3->chromadb) (1.0.1)\n",
            "Requirement already satisfied: uvloop!=0.15.0,!=0.15.1,>=0.14.0 in /usr/local/lib/python3.10/dist-packages (from uvicorn[standard]>=0.18.3->chromadb) (0.19.0)\n",
            "Requirement already satisfied: watchfiles>=0.13 in /usr/local/lib/python3.10/dist-packages (from uvicorn[standard]>=0.18.3->chromadb) (0.21.0)\n",
            "Requirement already satisfied: websockets>=10.4 in /usr/local/lib/python3.10/dist-packages (from uvicorn[standard]>=0.18.3->chromadb) (12.0)\n",
            "Requirement already satisfied: joblib in /usr/local/lib/python3.10/dist-packages (from nltk->sentence-transformers) (1.3.2)\n",
            "Requirement already satisfied: threadpoolctl>=2.0.0 in /usr/local/lib/python3.10/dist-packages (from scikit-learn->sentence-transformers) (3.2.0)\n",
            "Requirement already satisfied: exceptiongroup in /usr/local/lib/python3.10/dist-packages (from anyio<5,>=3->langchain-core<0.2,>=0.1.22->langchain) (1.2.0)\n",
            "Requirement already satisfied: cachetools<6.0,>=2.0.0 in /usr/local/lib/python3.10/dist-packages (from google-auth>=1.0.1->kubernetes>=28.1.0->chromadb) (5.3.2)\n",
            "Requirement already satisfied: pyasn1-modules>=0.2.1 in /usr/local/lib/python3.10/dist-packages (from google-auth>=1.0.1->kubernetes>=28.1.0->chromadb) (0.3.0)\n",
            "Requirement already satisfied: rsa<5,>=3.1.4 in /usr/local/lib/python3.10/dist-packages (from google-auth>=1.0.1->kubernetes>=28.1.0->chromadb) (4.9)\n",
            "Requirement already satisfied: httpcore==1.* in /usr/local/lib/python3.10/dist-packages (from httpx<1,>=0.23.0->openai<2.0.0,>=1.10.0->langchain-openai) (1.0.3)\n",
            "Requirement already satisfied: zipp>=0.5 in /usr/local/lib/python3.10/dist-packages (from importlib-metadata<7.0,>=6.0->opentelemetry-api>=1.2.0->chromadb) (3.17.0)\n",
            "Requirement already satisfied: mypy-extensions>=0.3.0 in /usr/local/lib/python3.10/dist-packages (from typing-inspect<1,>=0.4.0->dataclasses-json<0.7,>=0.5.7->langchain) (1.0.0)\n",
            "Requirement already satisfied: humanfriendly>=9.1 in /usr/local/lib/python3.10/dist-packages (from coloredlogs->onnxruntime>=1.14.1->chromadb) (10.0)\n",
            "Requirement already satisfied: MarkupSafe>=2.0 in /usr/local/lib/python3.10/dist-packages (from jinja2->torch>=1.11.0->sentence-transformers) (2.1.5)\n",
            "Requirement already satisfied: mpmath>=0.19 in /usr/local/lib/python3.10/dist-packages (from sympy->onnxruntime>=1.14.1->chromadb) (1.3.0)\n",
            "Requirement already satisfied: pyasn1<0.6.0,>=0.4.6 in /usr/local/lib/python3.10/dist-packages (from pyasn1-modules>=0.2.1->google-auth>=1.0.1->kubernetes>=28.1.0->chromadb) (0.5.1)\n",
            "Requirement already satisfied: gdown in /usr/local/lib/python3.10/dist-packages (4.7.3)\n",
            "Requirement already satisfied: filelock in /usr/local/lib/python3.10/dist-packages (from gdown) (3.13.1)\n",
            "Requirement already satisfied: requests[socks] in /usr/local/lib/python3.10/dist-packages (from gdown) (2.31.0)\n",
            "Requirement already satisfied: six in /usr/local/lib/python3.10/dist-packages (from gdown) (1.16.0)\n",
            "Requirement already satisfied: tqdm in /usr/local/lib/python3.10/dist-packages (from gdown) (4.66.2)\n",
            "Requirement already satisfied: beautifulsoup4 in /usr/local/lib/python3.10/dist-packages (from gdown) (4.12.3)\n",
            "Requirement already satisfied: soupsieve>1.2 in /usr/local/lib/python3.10/dist-packages (from beautifulsoup4->gdown) (2.5)\n",
            "Requirement already satisfied: charset-normalizer<4,>=2 in /usr/local/lib/python3.10/dist-packages (from requests[socks]->gdown) (3.3.2)\n",
            "Requirement already satisfied: idna<4,>=2.5 in /usr/local/lib/python3.10/dist-packages (from requests[socks]->gdown) (3.6)\n",
            "Requirement already satisfied: urllib3<3,>=1.21.1 in /usr/local/lib/python3.10/dist-packages (from requests[socks]->gdown) (2.0.7)\n",
            "Requirement already satisfied: certifi>=2017.4.17 in /usr/local/lib/python3.10/dist-packages (from requests[socks]->gdown) (2024.2.2)\n",
            "Requirement already satisfied: PySocks!=1.5.7,>=1.5.6 in /usr/local/lib/python3.10/dist-packages (from requests[socks]->gdown) (1.7.1)\n",
            "Requirement already satisfied: gpt4all in /usr/local/lib/python3.10/dist-packages (2.2.1.post1)\n",
            "Requirement already satisfied: requests in /usr/local/lib/python3.10/dist-packages (from gpt4all) (2.31.0)\n",
            "Requirement already satisfied: tqdm in /usr/local/lib/python3.10/dist-packages (from gpt4all) (4.66.2)\n",
            "Requirement already satisfied: charset-normalizer<4,>=2 in /usr/local/lib/python3.10/dist-packages (from requests->gpt4all) (3.3.2)\n",
            "Requirement already satisfied: idna<4,>=2.5 in /usr/local/lib/python3.10/dist-packages (from requests->gpt4all) (3.6)\n",
            "Requirement already satisfied: urllib3<3,>=1.21.1 in /usr/local/lib/python3.10/dist-packages (from requests->gpt4all) (2.0.7)\n",
            "Requirement already satisfied: certifi>=2017.4.17 in /usr/local/lib/python3.10/dist-packages (from requests->gpt4all) (2024.2.2)\n",
            "Requirement already satisfied: unstructured==0.7.12 in /usr/local/lib/python3.10/dist-packages (0.7.12)\n",
            "Requirement already satisfied: argilla in /usr/local/lib/python3.10/dist-packages (from unstructured==0.7.12) (1.24.0)\n",
            "Requirement already satisfied: chardet in /usr/local/lib/python3.10/dist-packages (from unstructured==0.7.12) (5.2.0)\n",
            "Requirement already satisfied: filetype in /usr/local/lib/python3.10/dist-packages (from unstructured==0.7.12) (1.2.0)\n",
            "Requirement already satisfied: lxml in /usr/local/lib/python3.10/dist-packages (from unstructured==0.7.12) (4.9.4)\n",
            "Requirement already satisfied: msg-parser in /usr/local/lib/python3.10/dist-packages (from unstructured==0.7.12) (1.2.0)\n",
            "Requirement already satisfied: nltk in /usr/local/lib/python3.10/dist-packages (from unstructured==0.7.12) (3.8.1)\n",
            "Requirement already satisfied: openpyxl in /usr/local/lib/python3.10/dist-packages (from unstructured==0.7.12) (3.1.2)\n",
            "Requirement already satisfied: pandas in /usr/local/lib/python3.10/dist-packages (from unstructured==0.7.12) (1.5.3)\n",
            "Requirement already satisfied: pdf2image in /usr/local/lib/python3.10/dist-packages (from unstructured==0.7.12) (1.17.0)\n",
            "Requirement already satisfied: pdfminer.six in /usr/local/lib/python3.10/dist-packages (from unstructured==0.7.12) (20231228)\n",
            "Requirement already satisfied: pillow in /usr/local/lib/python3.10/dist-packages (from unstructured==0.7.12) (9.4.0)\n",
            "Requirement already satisfied: pypandoc in /usr/local/lib/python3.10/dist-packages (from unstructured==0.7.12) (1.13)\n",
            "Requirement already satisfied: python-docx in /usr/local/lib/python3.10/dist-packages (from unstructured==0.7.12) (1.1.0)\n",
            "Requirement already satisfied: python-pptx in /usr/local/lib/python3.10/dist-packages (from unstructured==0.7.12) (0.6.23)\n",
            "Requirement already satisfied: python-magic in /usr/local/lib/python3.10/dist-packages (from unstructured==0.7.12) (0.4.27)\n",
            "Requirement already satisfied: markdown in /usr/local/lib/python3.10/dist-packages (from unstructured==0.7.12) (3.5.2)\n",
            "Requirement already satisfied: requests in /usr/local/lib/python3.10/dist-packages (from unstructured==0.7.12) (2.31.0)\n",
            "Requirement already satisfied: tabulate in /usr/local/lib/python3.10/dist-packages (from unstructured==0.7.12) (0.9.0)\n",
            "Requirement already satisfied: xlrd in /usr/local/lib/python3.10/dist-packages (from unstructured==0.7.12) (2.0.1)\n",
            "Requirement already satisfied: httpx<=0.26,>=0.15 in /usr/local/lib/python3.10/dist-packages (from argilla->unstructured==0.7.12) (0.26.0)\n",
            "Requirement already satisfied: deprecated~=1.2.0 in /usr/local/lib/python3.10/dist-packages (from argilla->unstructured==0.7.12) (1.2.14)\n",
            "Requirement already satisfied: packaging>=20.0 in /usr/local/lib/python3.10/dist-packages (from argilla->unstructured==0.7.12) (23.2)\n",
            "Requirement already satisfied: pydantic>=1.10.7 in /usr/local/lib/python3.10/dist-packages (from argilla->unstructured==0.7.12) (2.6.1)\n",
            "Requirement already satisfied: wrapt<1.15,>=1.13 in /usr/local/lib/python3.10/dist-packages (from argilla->unstructured==0.7.12) (1.14.1)\n",
            "Requirement already satisfied: numpy<1.24.0 in /usr/local/lib/python3.10/dist-packages (from argilla->unstructured==0.7.12) (1.23.5)\n",
            "Requirement already satisfied: tqdm>=4.27.0 in /usr/local/lib/python3.10/dist-packages (from argilla->unstructured==0.7.12) (4.66.2)\n",
            "Requirement already satisfied: backoff in /usr/local/lib/python3.10/dist-packages (from argilla->unstructured==0.7.12) (2.2.1)\n",
            "Requirement already satisfied: monotonic in /usr/local/lib/python3.10/dist-packages (from argilla->unstructured==0.7.12) (1.6)\n",
            "Requirement already satisfied: rich!=13.1.0 in /usr/local/lib/python3.10/dist-packages (from argilla->unstructured==0.7.12) (13.7.0)\n",
            "Requirement already satisfied: typer<0.10.0,>=0.6.0 in /usr/local/lib/python3.10/dist-packages (from argilla->unstructured==0.7.12) (0.9.0)\n",
            "Requirement already satisfied: python-dateutil>=2.8.1 in /usr/local/lib/python3.10/dist-packages (from pandas->unstructured==0.7.12) (2.8.2)\n",
            "Requirement already satisfied: pytz>=2020.1 in /usr/local/lib/python3.10/dist-packages (from pandas->unstructured==0.7.12) (2023.4)\n",
            "Requirement already satisfied: olefile>=0.46 in /usr/local/lib/python3.10/dist-packages (from msg-parser->unstructured==0.7.12) (0.47)\n",
            "Requirement already satisfied: click in /usr/local/lib/python3.10/dist-packages (from nltk->unstructured==0.7.12) (8.1.7)\n",
            "Requirement already satisfied: joblib in /usr/local/lib/python3.10/dist-packages (from nltk->unstructured==0.7.12) (1.3.2)\n",
            "Requirement already satisfied: regex>=2021.8.3 in /usr/local/lib/python3.10/dist-packages (from nltk->unstructured==0.7.12) (2023.12.25)\n",
            "Requirement already satisfied: et-xmlfile in /usr/local/lib/python3.10/dist-packages (from openpyxl->unstructured==0.7.12) (1.1.0)\n",
            "Requirement already satisfied: charset-normalizer>=2.0.0 in /usr/local/lib/python3.10/dist-packages (from pdfminer.six->unstructured==0.7.12) (3.3.2)\n",
            "Requirement already satisfied: cryptography>=36.0.0 in /usr/local/lib/python3.10/dist-packages (from pdfminer.six->unstructured==0.7.12) (42.0.2)\n",
            "Requirement already satisfied: typing-extensions in /usr/local/lib/python3.10/dist-packages (from python-docx->unstructured==0.7.12) (4.9.0)\n",
            "Requirement already satisfied: XlsxWriter>=0.5.7 in /usr/local/lib/python3.10/dist-packages (from python-pptx->unstructured==0.7.12) (3.2.0)\n",
            "Requirement already satisfied: idna<4,>=2.5 in /usr/local/lib/python3.10/dist-packages (from requests->unstructured==0.7.12) (3.6)\n",
            "Requirement already satisfied: urllib3<3,>=1.21.1 in /usr/local/lib/python3.10/dist-packages (from requests->unstructured==0.7.12) (2.0.7)\n",
            "Requirement already satisfied: certifi>=2017.4.17 in /usr/local/lib/python3.10/dist-packages (from requests->unstructured==0.7.12) (2024.2.2)\n",
            "Requirement already satisfied: cffi>=1.12 in /usr/local/lib/python3.10/dist-packages (from cryptography>=36.0.0->pdfminer.six->unstructured==0.7.12) (1.16.0)\n",
            "Requirement already satisfied: anyio in /usr/local/lib/python3.10/dist-packages (from httpx<=0.26,>=0.15->argilla->unstructured==0.7.12) (3.7.1)\n",
            "Requirement already satisfied: httpcore==1.* in /usr/local/lib/python3.10/dist-packages (from httpx<=0.26,>=0.15->argilla->unstructured==0.7.12) (1.0.3)\n",
            "Requirement already satisfied: sniffio in /usr/local/lib/python3.10/dist-packages (from httpx<=0.26,>=0.15->argilla->unstructured==0.7.12) (1.3.0)\n",
            "Requirement already satisfied: h11<0.15,>=0.13 in /usr/local/lib/python3.10/dist-packages (from httpcore==1.*->httpx<=0.26,>=0.15->argilla->unstructured==0.7.12) (0.14.0)\n",
            "Requirement already satisfied: annotated-types>=0.4.0 in /usr/local/lib/python3.10/dist-packages (from pydantic>=1.10.7->argilla->unstructured==0.7.12) (0.6.0)\n",
            "Requirement already satisfied: pydantic-core==2.16.2 in /usr/local/lib/python3.10/dist-packages (from pydantic>=1.10.7->argilla->unstructured==0.7.12) (2.16.2)\n",
            "Requirement already satisfied: six>=1.5 in /usr/local/lib/python3.10/dist-packages (from python-dateutil>=2.8.1->pandas->unstructured==0.7.12) (1.16.0)\n",
            "Requirement already satisfied: markdown-it-py>=2.2.0 in /usr/local/lib/python3.10/dist-packages (from rich!=13.1.0->argilla->unstructured==0.7.12) (3.0.0)\n",
            "Requirement already satisfied: pygments<3.0.0,>=2.13.0 in /usr/local/lib/python3.10/dist-packages (from rich!=13.1.0->argilla->unstructured==0.7.12) (2.16.1)\n",
            "Requirement already satisfied: pycparser in /usr/local/lib/python3.10/dist-packages (from cffi>=1.12->cryptography>=36.0.0->pdfminer.six->unstructured==0.7.12) (2.21)\n",
            "Requirement already satisfied: mdurl~=0.1 in /usr/local/lib/python3.10/dist-packages (from markdown-it-py>=2.2.0->rich!=13.1.0->argilla->unstructured==0.7.12) (0.1.2)\n",
            "Requirement already satisfied: exceptiongroup in /usr/local/lib/python3.10/dist-packages (from anyio->httpx<=0.26,>=0.15->argilla->unstructured==0.7.12) (1.2.0)\n"
          ]
        }
      ],
      "source": [
        "!pip install langchain chromadb sentence-transformers langchain-openai pypdf\n",
        "!pip install gdown\n",
        "!pip install gpt4all\n",
        "!pip install unstructured==0.7.12"
      ]
    },
    {
      "cell_type": "code",
      "source": [
        "import os\n",
        "import gdown\n",
        "import shutil\n"
      ],
      "metadata": {
        "id": "9_XIqrDrmX7k"
      },
      "execution_count": 16,
      "outputs": []
    },
    {
      "cell_type": "markdown",
      "source": [
        "# Descarga de archivos pdf desde drive"
      ],
      "metadata": {
        "id": "W-ANldfloFAd"
      }
    },
    {
      "cell_type": "code",
      "source": [
        "# URL que contiene archivos sobre Seguros obtenidos de la carrera de productores de seguros\n",
        "#url = 'https://drive.google.com/drive/folders/1lDEjs3wxVKs_3TWA2wUN7V-jTwENUq-V'\n",
        "\n",
        "#Este otro tiene pocos archivos (solo para test)\n",
        "url = 'https://drive.google.com/drive/folders/1u6RqhZuS8nY3XgxVZj2MTTPECU_CJCIv'\n",
        "\n",
        "# Eliminar la carpeta 'data' si existe\n",
        "carpeta_destino = 'data'\n",
        "if os.path.exists(carpeta_destino):\n",
        "    shutil.rmtree(carpeta_destino)\n",
        "\n",
        "# Crear la carpeta 'data'\n",
        "os.makedirs(carpeta_destino)\n",
        "\n",
        "# Descargar la carpeta desde Google Drive\n",
        "gdown.download_folder(url, quiet=True, output='data')\n",
        "\n",
        "# Mensaje indicando que los archivos se han movido con éxito\n",
        "print(\"Archivos movidos con éxito.\")"
      ],
      "metadata": {
        "id": "ykZdyWbkkyrn",
        "colab": {
          "base_uri": "https://localhost:8080/"
        },
        "outputId": "4b2850c0-bc6f-49e3-fc24-2063261d108a"
      },
      "execution_count": 17,
      "outputs": [
        {
          "output_type": "stream",
          "name": "stdout",
          "text": [
            "Archivos movidos con éxito.\n"
          ]
        }
      ]
    },
    {
      "cell_type": "markdown",
      "source": [
        "# Armado del csv"
      ],
      "metadata": {
        "id": "6iYyNzPOS4_-"
      }
    },
    {
      "cell_type": "code",
      "source": [
        "import requests\n",
        "import pandas as pd\n",
        "from bs4 import BeautifulSoup\n",
        "\n",
        "\n",
        "datos_scraper = {'san_cristobal': {'Auto': 0, 'Moto':0, 'Embarcaciones':0, 'Hogar':0, 'Incendio':0, 'Alquiler Garantizado':0, 'Vida':0, 'Sepelio':0, 'Robo':0, 'Mala Praxis':0, 'Caución':0, 'Salud':0, 'Cuidados Mayores':0, 'Bicicleta / Monopatín':0, 'Accidentes personales':0, 'Asegurar comercio, hotel, Consorcio u otro':0, 'ART':0, 'Asegurar responsabilidad civil':0, 'RC Profesional':0, 'Pack Ambiental':0, 'RC General':0, 'RC por Contaminación':0, 'Seguro de Transporte':0},\n",
        "                 'la_caja': {'Auto': 0, 'Moto':0, 'Embarcaciones':0, 'Hogar':0, 'Incendio':0, 'Alquiler Garantizado':0, 'Vida':0, 'Sepelio':0, 'Robo':0, 'Mala Praxis':0, 'Caución':0, 'Salud':0, 'Cuidados Mayores':0, 'Bicicleta / Monopatín':0, 'Accidentes personales':0, 'Asegurar comercio, hotel, Consorcio u otro':0, 'ART':0, 'Asegurar responsabilidad civil':0, 'RC Profesional':0, 'Pack Ambiental':0, 'RC General':0, 'RC por Contaminación':0, 'Seguro de Transporte':0},\n",
        "                 'la_segunda': {'Auto': 0, 'Moto':0, 'Embarcaciones':0, 'Hogar':0, 'Incendio':0, 'Alquiler Garantizado':0, 'Vida':0, 'Sepelio':0, 'Robo':0, 'Mala Praxis':0, 'Caución':0, 'Salud':0, 'Cuidados Mayores':0, 'Bicicleta / Monopatín':0, 'Accidentes personales':0, 'Asegurar comercio, hotel, Consorcio u otro':0, 'ART':0, 'Asegurar responsabilidad civil':0, 'RC Profesional':0, 'Pack Ambiental':0, 'RC General':0, 'RC por Contaminación':0, 'Seguro de Transporte':0},\n",
        "                 'rio_uruguay': {'Auto': 0, 'Moto':0, 'Embarcaciones':0, 'Hogar':0, 'Incendio':0, 'Alquiler Garantizado':0, 'Vida':0, 'Sepelio':0, 'Robo':0, 'Mala Praxis':0, 'Caución':0, 'Salud':0, 'Cuidados Mayores':0, 'Bicicleta / Monopatín':0, 'Accidentes personales':0, 'Asegurar comercio, hotel, Consorcio u otro':0, 'ART':0, 'Asegurar responsabilidad civil':0, 'RC Profesional':0, 'Pack Ambiental':0, 'RC General':0, 'RC por Contaminación':0, 'Seguro de Transporte':0},\n",
        "                 'seguros_rivadavia': {'Auto': 0, 'Moto':0, 'Embarcaciones':0, 'Hogar':0, 'Incendio':0, 'Alquiler Garantizado':0, 'Vida':0, 'Sepelio':0, 'Robo':0, 'Mala Praxis':0, 'Caución':0, 'Salud':0, 'Cuidados Mayores':0, 'Bicicleta / Monopatín':0, 'Accidentes personales':0, 'Asegurar comercio, hotel, Consorcio u otro':0, 'ART':0, 'Asegurar responsabilidad civil':0, 'RC Profesional':0, 'Pack Ambiental':0, 'RC General':0, 'RC por Contaminación':0, 'Seguro de Transporte':0},\n",
        "                 'provincia_seguros': {'Auto': 0, 'Moto':0, 'Embarcaciones':0, 'Hogar':0, 'Incendio':0, 'Alquiler Garantizado':0, 'Vida':0, 'Sepelio':0, 'Robo':0, 'Mala Praxis':0, 'Caución':0, 'Salud':0, 'Cuidados Mayores':0, 'Bicicleta / Monopatín':0, 'Accidentes personales':0, 'Asegurar comercio, hotel, Consorcio u otro':0, 'ART':0, 'Asegurar responsabilidad civil':0, 'RC Profesional':0, 'Pack Ambiental':0, 'RC General':0, 'RC por Contaminación':0, 'Seguro de Transporte':0},\n",
        "                 'prudencia_seguros': {'Auto': 0, 'Moto':0, 'Embarcaciones':0, 'Hogar':0, 'Incendio':0, 'Alquiler Garantizado':0, 'Vida':0, 'Sepelio':0, 'Robo':0, 'Mala Praxis':0, 'Caución':0, 'Salud':0, 'Cuidados Mayores':0, 'Bicicleta / Monopatín':0, 'Accidentes personales':0, 'Asegurar comercio, hotel, Consorcio u otro':0, 'ART':0, 'Asegurar responsabilidad civil':0, 'RC Profesional':0, 'Pack Ambiental':0, 'RC General':0, 'RC por Contaminación':0, 'Seguro de Transporte':0},\n",
        "                 'mapfre': {'Auto': 0, 'Moto':0, 'Embarcaciones':0, 'Hogar':0, 'Incendio':0, 'Alquiler Garantizado':0, 'Vida':0, 'Sepelio':0, 'Robo':0, 'Mala Praxis':0, 'Caución':0, 'Salud':0, 'Cuidados Mayores':0, 'Bicicleta / Monopatín':0, 'Accidentes personales':0, 'Asegurar comercio, hotel, Consorcio u otro':0, 'ART':0, 'Asegurar responsabilidad civil':0, 'RC Profesional':0, 'Pack Ambiental':0, 'RC General':0, 'RC por Contaminación':0, 'Seguro de Transporte':0}}\n",
        "\n",
        "def clasificacion(compania, tipo_seguro):\n",
        "  if tipo_seguro in ['Automotor', 'Auto', 'Asegurar el auto', 'AUTOMOTORES', 'Seguro del Automotor', 'Autos', 'Auto Conectado']:\n",
        "    datos_scraper[compania]['Auto'] = 1\n",
        "  if tipo_seguro in ['Moto', 'Asegurar la moto', 'MOTO']:\n",
        "    datos_scraper[compania]['Moto'] = 1\n",
        "  if tipo_seguro in ['Flota', 'EMBARCACIONES DE PLACER', 'Embarcaciones']:\n",
        "    datos_scraper[compania]['Embarcaciones'] = 1\n",
        "  if tipo_seguro in ['Hogar', 'Asegurar la casa', 'HOGAR']:\n",
        "    datos_scraper[compania]['Hogar'] = 1\n",
        "  if tipo_seguro in ['Incendio','Asegurar empresa contra incendio']:\n",
        "    datos_scraper[compania]['Incendio'] = 1\n",
        "  if tipo_seguro in ['Alquiler Garantizado', 'GARANTIA DE ALQUILER']:\n",
        "    datos_scraper[compania]['Alquiler Garantizado'] = 1\n",
        "  if tipo_seguro in ['Vida', 'Seguros de vida', 'Asegurar vidas', 'Seguro de Vida']:\n",
        "    datos_scraper[compania]['Vida'] = 1\n",
        "  if tipo_seguro in ['Sepelio']:\n",
        "    datos_scraper[compania]['Sepelio'] = 1\n",
        "  if tipo_seguro in ['Robo', 'Notebook / Tablet', 'Cartera', 'BOLSO PROTEGIDO']:\n",
        "    datos_scraper[compania]['Robo'] = 1\n",
        "  if tipo_seguro in ['Mala Praxis', 'RC Praxis Médica']:\n",
        "    datos_scraper[compania]['Mala Praxis'] = 1\n",
        "  if tipo_seguro in ['Caución','Seguro de Caución']:\n",
        "    datos_scraper[compania]['Caución'] = 1\n",
        "  if tipo_seguro in ['Salud']:\n",
        "    datos_scraper[compania]['Salud'] = 1\n",
        "  if tipo_seguro in ['Cuidados Mayores']:\n",
        "    datos_scraper[compania]['Cuidados Mayores'] = 1\n",
        "  if tipo_seguro in ['Bicicleta / Monopatín', 'Asegurar la bici', 'Pack Bicicletas']:\n",
        "    datos_scraper[compania]['Bicicleta / Monopatín'] = 1\n",
        "  if tipo_seguro in ['Accidentes personales','Asegurar contra accidentes personales', 'ACCIDENTES PERSONALES', 'Asegurar empresa contra accidentes personales', 'accidentes']:\n",
        "    datos_scraper[compania]['Accidentes personales'] = 1\n",
        "  if tipo_seguro in ['Asegurar comercio, hotel, Consorcio u otro', 'Integral de Comercio']:\n",
        "    datos_scraper[compania]['Asegurar comercio, hotel, Consorcio u otro'] = 1\n",
        "  if tipo_seguro in ['ART']:\n",
        "    datos_scraper[compania]['ART'] = 1\n",
        "  if tipo_seguro in ['Asegurar responsabilidad civil']:\n",
        "    datos_scraper[compania]['Asegurar responsabilidad civil'] = 1\n",
        "  if tipo_seguro in ['RC Profesional']:\n",
        "    datos_scraper[compania]['RC Profesional'] = 1\n",
        "  if tipo_seguro in ['Pack Ambiental']:\n",
        "    datos_scraper[compania]['Pack Ambiental'] = 1\n",
        "  if tipo_seguro in ['RC General']:\n",
        "    datos_scraper[compania]['RC General'] = 1\n",
        "  if tipo_seguro in ['RC por Contaminación']:\n",
        "    datos_scraper[compania]['RC por Contaminación'] = 1\n",
        "  if tipo_seguro in ['Seguro de Transporte', 'Seguros para Transporte Nacional de Pasajeros', 'Seguros para Transporte Interacional de Pasajeros']:\n",
        "    datos_scraper[compania]['Seguro de Transporte'] = 1\n",
        "\n",
        "\n",
        "respuesta = requests.get('https://www.sancristobal.com.ar/institucional/')\n",
        "soup = BeautifulSoup(respuesta.text)\n",
        "codigo= soup.find(\"div\", {\"class\":\"row justify-content-center mb-4\"})\n",
        "seguros = codigo.find_all('h4')\n",
        "for seguro in seguros:\n",
        "  clasificacion('san_cristobal', seguro.text)\n",
        "\n",
        "respuesta = requests.get('https://seguros.lacaja.com.ar/home')\n",
        "soup = BeautifulSoup(respuesta.text)\n",
        "codigo= soup.find(\"div\", {\"class\":\"col-xs-12\"})\n",
        "seguros = codigo.find_all('h4')\n",
        "for seguro in seguros:\n",
        "    clasificacion('la_caja', seguro.text)\n",
        "\n",
        "respuesta = requests.get('https://www.lasegunda.com.ar/home')\n",
        "soup = BeautifulSoup(respuesta.text)\n",
        "codigo= soup.find_all(\"div\", {\"class\":\"col-seguro ng-star-inserted\"})\n",
        "for seguro in seguros:\n",
        "  clasificacion('la_segunda', seguro.text)\n",
        "\n",
        "respuesta = requests.get('https://www.riouruguay.com.ar/catalogo?utm_source=Google&utm_medium=Search&utm_campaign=Catalago&gad_source=1&gclid=Cj0KCQiAn-2tBhDVARIsAGmStVmruATlgSeLKZgFIlWn-V7Dy0zoHqwxIWWPwKWNpoiYsK9KS2f2EVoaAmYHEALw_wcB')\n",
        "soup = BeautifulSoup(respuesta.text)\n",
        "codigo= soup.find_all(\"p\", {\"class\":\"ml-16 whitespace-normal text-md leading-6 font-medium text-gray-900\"})\n",
        "for seguro in seguros:\n",
        "  clasificacion('rio_uruguay', seguro.text)\n",
        "\n",
        "def variedad(url):\n",
        "  respuesta = requests.get(url)\n",
        "  soup = BeautifulSoup(respuesta.text)\n",
        "  codigo= soup.find(\"div\", {\"class\":\"white-box-cont\"})\n",
        "  seguros = codigo.find_all('a')\n",
        "  for seguro in seguros:\n",
        "    try:\n",
        "      clasificacion('seguros_rivadavia', seguro.img.get('title'))\n",
        "    except Exception as E:\n",
        "      clasificacion('seguros_rivadavia', seguro.get('href')[0:-1])\n",
        "variedad('https://www.segurosrivadavia.com/personas/')\n",
        "variedad('https://www.segurosrivadavia.com/empresas/')\n",
        "variedad('https://www.segurosrivadavia.com/transporte/')\n",
        "\n",
        "respuesta = requests.get('https://www.provinciaseguros.com.ar/')\n",
        "soup = BeautifulSoup(respuesta.text)\n",
        "codigo= soup.find(\"div\", {\"class\":\"row row-inner\"})\n",
        "seguros = codigo.find_all('h4')\n",
        "for seguro in seguros:\n",
        "  clasificacion('provincia_seguros', seguro.text)\n",
        "\n",
        "respuesta = requests.get('https://www.prudenciaseguros.com.ar')\n",
        "soup = BeautifulSoup(respuesta.text)\n",
        "codigo= soup.find(\"div\", {\"class\":\"section_wrapper between\"})\n",
        "seguros = codigo.find_all('p')\n",
        "for seguro in seguros:\n",
        "  if 'INFO' not in seguro.text:\n",
        "    clasificacion('prudencia_seguros', seguro.text)\n",
        "\n",
        "respuesta = requests.get('https://www.mapfre.com.ar/')\n",
        "soup = BeautifulSoup(respuesta.text)\n",
        "codigo= soup.find(\"div\", {\"class\":\"et_pb_row et_pb_row_0\"})\n",
        "seguros = codigo.find_all(\"div\", {\"class\":\"et_pb_blurb_description\"})\n",
        "for i in range(0,3):\n",
        "  clasificacion('mapfre', seguros[i].p.text)\n",
        "\n",
        "df = pd.DataFrame.from_dict(datos_scraper)\n",
        "df = df.transpose()\n",
        "df.reset_index(inplace=True)\n",
        "df.rename(columns={'index': 'compania'}, inplace=True)\n",
        "df.to_csv('datos_seguros.csv', index=False, index_label='compania')\n",
        "\n",
        "print(\"Archivo CSV guardado exitosamente.\")"
      ],
      "metadata": {
        "colab": {
          "base_uri": "https://localhost:8080/"
        },
        "id": "SfgwORFXS4ji",
        "outputId": "ecc248ee-2eb1-442e-842a-821fe05a0ccc"
      },
      "execution_count": 18,
      "outputs": [
        {
          "output_type": "stream",
          "name": "stdout",
          "text": [
            "Archivo CSV guardado exitosamente.\n"
          ]
        }
      ]
    },
    {
      "cell_type": "markdown",
      "source": [
        "# Se crean los embedding y se guardan en la base de datos\n"
      ],
      "metadata": {
        "id": "9-UhxnjaokZx"
      }
    },
    {
      "cell_type": "code",
      "source": [
        "from langchain.document_loaders import DirectoryLoader\n",
        "from langchain_community.vectorstores import Chroma\n",
        "from langchain_openai import OpenAIEmbeddings\n",
        "from langchain.embeddings import GPT4AllEmbeddings\n",
        "from langchain.text_splitter import RecursiveCharacterTextSplitter\n",
        "from langchain.llms import GPT4All\n",
        "from langchain.chains import RetrievalQA\n",
        "from langchain.chains import ConversationalRetrievalChain\n",
        "from langchain.document_loaders import CSVLoader"
      ],
      "metadata": {
        "id": "X_clMjMmm8xU"
      },
      "execution_count": 19,
      "outputs": []
    },
    {
      "cell_type": "markdown",
      "source": [
        "## Leer los pdfs\n"
      ],
      "metadata": {
        "id": "co4_2fZMEWXP"
      }
    },
    {
      "cell_type": "code",
      "source": [
        "carpeta = DirectoryLoader('./data')\n",
        "pdfs = carpeta.load()"
      ],
      "metadata": {
        "id": "5jC3nh2zq0IF"
      },
      "execution_count": 20,
      "outputs": []
    },
    {
      "cell_type": "markdown",
      "source": [
        "## Seperar en chuncks los pdfs"
      ],
      "metadata": {
        "id": "WTKkErcqEqK4"
      }
    },
    {
      "cell_type": "code",
      "source": [
        "separar_texto = RecursiveCharacterTextSplitter(\n",
        "            chunk_size=500,\n",
        "            chunk_overlap=60\n",
        "            )\n",
        "pdfs_chunk = separar_texto.split_documents(pdfs)"
      ],
      "metadata": {
        "id": "G5b4pwjAEy4k"
      },
      "execution_count": null,
      "outputs": []
    },
    {
      "cell_type": "markdown",
      "source": [
        "## Crear embedding y Guardado en ChromaDb"
      ],
      "metadata": {
        "id": "mUi0vwVkHD9h"
      }
    },
    {
      "cell_type": "code",
      "source": [
        "embeddings = GPT4AllEmbeddings()\n",
        "vector_db = Chroma(\n",
        "        persist_directory='croma_db',\n",
        "        embedding_function=embeddings,\n",
        "    )\n",
        "vector_db.add_documents(pdfs_chunk)\n",
        "vector_db.persist()"
      ],
      "metadata": {
        "id": "YKAEXxYgHgv1",
        "colab": {
          "base_uri": "https://localhost:8080/"
        },
        "outputId": "432f6206-1c6f-49e0-c04d-2f84e44c5ebe"
      },
      "execution_count": null,
      "outputs": [
        {
          "output_type": "stream",
          "name": "stderr",
          "text": [
            "100%|██████████| 45.9M/45.9M [00:01<00:00, 32.8MiB/s]\n"
          ]
        }
      ]
    },
    {
      "cell_type": "code",
      "source": [
        "loader = CSVLoader(\"/content/datos_seguros.csv\")\n",
        "documents = loader.load()\n",
        "\n",
        "vector_db.add_documents(documents)\n",
        "vector_db.persist()"
      ],
      "metadata": {
        "id": "Uwhf8nAkVgh-"
      },
      "execution_count": null,
      "outputs": []
    },
    {
      "cell_type": "markdown",
      "source": [
        "# Carga del modelo"
      ],
      "metadata": {
        "id": "0T9qJ0EbKhKm"
      }
    },
    {
      "cell_type": "code",
      "source": [
        "llm = GPT4All(\n",
        "    model=\"orca-mini-3b-gguf2-q4_0.gguf\",\n",
        "    max_tokens=2048,\n",
        "    allow_download=True,\n",
        "    verbose=True,\n",
        ")"
      ],
      "metadata": {
        "id": "6s1qd39sR6Rc",
        "colab": {
          "base_uri": "https://localhost:8080/"
        },
        "outputId": "cd94e673-e92e-4922-b58d-d14f1471cf3d"
      },
      "execution_count": null,
      "outputs": [
        {
          "output_type": "stream",
          "name": "stderr",
          "text": [
            "100%|██████████| 1.98G/1.98G [00:46<00:00, 42.3MiB/s]\n"
          ]
        }
      ]
    },
    {
      "cell_type": "markdown",
      "source": [
        "# retraiver\n",
        "**esta funcion se usa como callback para alimentar al retriver de longchain**"
      ],
      "metadata": {
        "id": "gEowpCKrZDF3"
      }
    },
    {
      "cell_type": "code",
      "source": [
        "qa_chain = ConversationalRetrievalChain.from_llm(\n",
        "    llm,\n",
        "    vector_db.as_retriever(search_kwargs={'k': 1}),\n",
        "    return_source_documents=True,\n",
        "    verbose=True\n",
        ")"
      ],
      "metadata": {
        "id": "PkZnTxBwcREb"
      },
      "execution_count": null,
      "outputs": []
    },
    {
      "cell_type": "code",
      "source": [
        "while True:\n",
        "  pregunta = input('Por favor ingrese una pregunta: ')\n",
        "  prompt = \"Como experto en seguros, por favor, proporciona una respuesta a la siguiente pregunta: \" + pregunta + \" Responder siempre en español\"\n",
        "  result = qa_chain({\"question\": prompt})\n",
        "  print('respuesta')\n",
        "  print(result[\"answer\"])\n",
        "  print('fuente')\n",
        "  print(result['source_documents'])"
      ],
      "metadata": {
        "id": "_41bOn3lPgRC"
      },
      "execution_count": null,
      "outputs": []
    },
    {
      "cell_type": "code",
      "source": [
        "\"\"\"chat_history = []\n",
        "query = \"Como experto en seguros, por favor, proporciona una respuesta a la siguiente pregunta: que es un seguro? Responder siempre en español\"\n",
        "print(query)\n",
        "result = qa_chain({\"question\": query, \"chat_history\": chat_history})\n",
        "result[\"answer\"]\n",
        "print('respuesta')\n",
        "print(result[\"answer\"])\n",
        "print('fuente')\n",
        "print(result['source_documents'])\"\"\""
      ],
      "metadata": {
        "id": "0PKvwEimk37D"
      },
      "execution_count": null,
      "outputs": []
    }
  ]
}